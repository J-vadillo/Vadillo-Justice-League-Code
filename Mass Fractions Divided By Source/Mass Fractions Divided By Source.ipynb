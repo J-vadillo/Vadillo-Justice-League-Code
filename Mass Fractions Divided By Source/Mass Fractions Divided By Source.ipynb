{
 "cells": [
  {
   "cell_type": "code",
   "execution_count": 1,
   "id": "bae01a6b-94ff-4832-a325-c8820db1830b",
   "metadata": {},
   "outputs": [],
   "source": [
    "import pandas as pd\n",
    "import pynbody\n",
    "import numpy as np\n",
    "import h5py\n",
    "import pynbody.plot.sph as sph\n",
    "from pynbody import units\n",
    "\n",
    "import matplotlib.pyplot as plt\n"
   ]
  },
  {
   "cell_type": "code",
   "execution_count": 2,
   "id": "27c2a274-b630-485f-be20-13ca82d46e0f",
   "metadata": {},
   "outputs": [],
   "source": [
    "import sys\n",
    "sys.path.append('/home/vadilloj/MAP2023/Vadillo-Justice-League-Code')\n",
    "from Runnable_Modules import Base as base, IonUtils as ions, TrackingUtils as tracking\n",
    "\n",
    "\n",
    "from Runnable_Modules.IonUtils import HI_factor, OVI_factor\n",
    "from Runnable_Modules.Base import simulations"
   ]
  },
  {
   "cell_type": "code",
   "execution_count": 4,
   "id": "efe3794a-3303-4007-8f98-69219ee40dae",
   "metadata": {},
   "outputs": [
    {
     "ename": "KeyError",
     "evalue": "'Halo keys'",
     "output_type": "error",
     "traceback": [
      "\u001b[31m---------------------------------------------------------------------------\u001b[39m",
      "\u001b[31mKeyError\u001b[39m                                  Traceback (most recent call last)",
      "\u001b[36mFile \u001b[39m\u001b[32m~/anaconda3/envs/conda-env-py311/lib/python3.11/site-packages/pandas/core/indexes/base.py:3805\u001b[39m, in \u001b[36mIndex.get_loc\u001b[39m\u001b[34m(self, key)\u001b[39m\n\u001b[32m   3804\u001b[39m \u001b[38;5;28;01mtry\u001b[39;00m:\n\u001b[32m-> \u001b[39m\u001b[32m3805\u001b[39m     \u001b[38;5;28;01mreturn\u001b[39;00m \u001b[38;5;28mself\u001b[39m._engine.get_loc(casted_key)\n\u001b[32m   3806\u001b[39m \u001b[38;5;28;01mexcept\u001b[39;00m \u001b[38;5;167;01mKeyError\u001b[39;00m \u001b[38;5;28;01mas\u001b[39;00m err:\n",
      "\u001b[36mFile \u001b[39m\u001b[32mindex.pyx:167\u001b[39m, in \u001b[36mpandas._libs.index.IndexEngine.get_loc\u001b[39m\u001b[34m()\u001b[39m\n",
      "\u001b[36mFile \u001b[39m\u001b[32mindex.pyx:196\u001b[39m, in \u001b[36mpandas._libs.index.IndexEngine.get_loc\u001b[39m\u001b[34m()\u001b[39m\n",
      "\u001b[36mFile \u001b[39m\u001b[32mpandas/_libs/hashtable_class_helper.pxi:7081\u001b[39m, in \u001b[36mpandas._libs.hashtable.PyObjectHashTable.get_item\u001b[39m\u001b[34m()\u001b[39m\n",
      "\u001b[36mFile \u001b[39m\u001b[32mpandas/_libs/hashtable_class_helper.pxi:7089\u001b[39m, in \u001b[36mpandas._libs.hashtable.PyObjectHashTable.get_item\u001b[39m\u001b[34m()\u001b[39m\n",
      "\u001b[31mKeyError\u001b[39m: 'Halo keys'",
      "\nThe above exception was the direct cause of the following exception:\n",
      "\u001b[31mKeyError\u001b[39m                                  Traceback (most recent call last)",
      "\u001b[36mCell\u001b[39m\u001b[36m \u001b[39m\u001b[32mIn[4]\u001b[39m\u001b[32m, line 6\u001b[39m\n\u001b[32m      3\u001b[39m ions.calculate_gas_mass(s)\n\u001b[32m      4\u001b[39m ions.calculate_gas_rhos(s)\n\u001b[32m----> \u001b[39m\u001b[32m6\u001b[39m halo_subsims = tracking.find_halo_particles(h1, simulations, filename)\n",
      "\u001b[36mFile \u001b[39m\u001b[32m~/MAP2023/Vadillo-Justice-League-Code/Runnable_Modules/TrackingUtils.py:48\u001b[39m, in \u001b[36mfind_halo_particles\u001b[39m\u001b[34m(h1, simulations, filename)\u001b[39m\n\u001b[32m     45\u001b[39m halo_subsims = {}\u001b[38;5;66;03m#create dictionary\u001b[39;00m\n\u001b[32m     46\u001b[39m all_halos = np.array([])\u001b[38;5;66;03m#create a list for particles in any halo\u001b[39;00m\n\u001b[32m---> \u001b[39m\u001b[32m48\u001b[39m halolist = simulations[\u001b[33m'\u001b[39m\u001b[33mHalo keys\u001b[39m\u001b[33m'\u001b[39m][filename]\u001b[38;5;66;03m#get the list of halos for the given simulation\u001b[39;00m\n\u001b[32m     50\u001b[39m \u001b[38;5;28;01mfor\u001b[39;00m halo \u001b[38;5;129;01min\u001b[39;00m halolist:\n\u001b[32m     51\u001b[39m     \u001b[38;5;66;03m# particle_list = [] ##array to store all particle ids within it\u001b[39;00m\n\u001b[32m     52\u001b[39m     halo_of_origin = \u001b[33m\"\u001b[39m\u001b[33mh\u001b[39m\u001b[33m\"\u001b[39m+(halo.split(\u001b[33m'\u001b[39m\u001b[33m_\u001b[39m\u001b[33m'\u001b[39m)[\u001b[32m1\u001b[39m]) \u001b[38;5;66;03m#string denoting the halo of origin\u001b[39;00m\n",
      "\u001b[36mFile \u001b[39m\u001b[32m~/anaconda3/envs/conda-env-py311/lib/python3.11/site-packages/pandas/core/frame.py:4102\u001b[39m, in \u001b[36mDataFrame.__getitem__\u001b[39m\u001b[34m(self, key)\u001b[39m\n\u001b[32m   4100\u001b[39m \u001b[38;5;28;01mif\u001b[39;00m \u001b[38;5;28mself\u001b[39m.columns.nlevels > \u001b[32m1\u001b[39m:\n\u001b[32m   4101\u001b[39m     \u001b[38;5;28;01mreturn\u001b[39;00m \u001b[38;5;28mself\u001b[39m._getitem_multilevel(key)\n\u001b[32m-> \u001b[39m\u001b[32m4102\u001b[39m indexer = \u001b[38;5;28mself\u001b[39m.columns.get_loc(key)\n\u001b[32m   4103\u001b[39m \u001b[38;5;28;01mif\u001b[39;00m is_integer(indexer):\n\u001b[32m   4104\u001b[39m     indexer = [indexer]\n",
      "\u001b[36mFile \u001b[39m\u001b[32m~/anaconda3/envs/conda-env-py311/lib/python3.11/site-packages/pandas/core/indexes/base.py:3812\u001b[39m, in \u001b[36mIndex.get_loc\u001b[39m\u001b[34m(self, key)\u001b[39m\n\u001b[32m   3807\u001b[39m     \u001b[38;5;28;01mif\u001b[39;00m \u001b[38;5;28misinstance\u001b[39m(casted_key, \u001b[38;5;28mslice\u001b[39m) \u001b[38;5;129;01mor\u001b[39;00m (\n\u001b[32m   3808\u001b[39m         \u001b[38;5;28misinstance\u001b[39m(casted_key, abc.Iterable)\n\u001b[32m   3809\u001b[39m         \u001b[38;5;129;01mand\u001b[39;00m \u001b[38;5;28many\u001b[39m(\u001b[38;5;28misinstance\u001b[39m(x, \u001b[38;5;28mslice\u001b[39m) \u001b[38;5;28;01mfor\u001b[39;00m x \u001b[38;5;129;01min\u001b[39;00m casted_key)\n\u001b[32m   3810\u001b[39m     ):\n\u001b[32m   3811\u001b[39m         \u001b[38;5;28;01mraise\u001b[39;00m InvalidIndexError(key)\n\u001b[32m-> \u001b[39m\u001b[32m3812\u001b[39m     \u001b[38;5;28;01mraise\u001b[39;00m \u001b[38;5;167;01mKeyError\u001b[39;00m(key) \u001b[38;5;28;01mfrom\u001b[39;00m\u001b[38;5;250m \u001b[39m\u001b[34;01merr\u001b[39;00m\n\u001b[32m   3813\u001b[39m \u001b[38;5;28;01mexcept\u001b[39;00m \u001b[38;5;167;01mTypeError\u001b[39;00m:\n\u001b[32m   3814\u001b[39m     \u001b[38;5;66;03m# If we have a listlike key, _check_indexing_error will raise\u001b[39;00m\n\u001b[32m   3815\u001b[39m     \u001b[38;5;66;03m#  InvalidIndexError. Otherwise we fall through and re-raise\u001b[39;00m\n\u001b[32m   3816\u001b[39m     \u001b[38;5;66;03m#  the TypeError.\u001b[39;00m\n\u001b[32m   3817\u001b[39m     \u001b[38;5;28mself\u001b[39m._check_indexing_error(key)\n",
      "\u001b[31mKeyError\u001b[39m: 'Halo keys'"
     ]
    }
   ],
   "source": [
    "filename = 'Sandra'\n",
    "s, h1 = base.load_in_sim(filename)\n",
    "ions.calculate_gas_mass(s)\n",
    "ions.calculate_gas_rhos(s)\n",
    "\n",
    "halo_subsims = tracking.find_halo_particles(h1, simulations, filename)"
   ]
  },
  {
   "cell_type": "code",
   "execution_count": null,
   "id": "a01c6c34-d187-42fb-93a1-b382a0058146",
   "metadata": {},
   "outputs": [],
   "source": [
    "halo_properties  = pd.Dataframe()"
   ]
  }
 ],
 "metadata": {
  "kernelspec": {
   "display_name": "Python 3 (ipykernel)",
   "language": "python",
   "name": "python3"
  },
  "language_info": {
   "codemirror_mode": {
    "name": "ipython",
    "version": 3
   },
   "file_extension": ".py",
   "mimetype": "text/x-python",
   "name": "python",
   "nbconvert_exporter": "python",
   "pygments_lexer": "ipython3",
   "version": "3.11.11"
  }
 },
 "nbformat": 4,
 "nbformat_minor": 5
}
